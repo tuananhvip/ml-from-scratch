{
  
  "cells": [
  

  {
   "cell_type": "markdown",
   "metadata": {},
   "source": [
    "# Transformer: Attention is all you need\n",
    "\n",
    "This jupyter notebook is Tensorflow version implemented in the paper [Attention is all you need](https://arxiv.org/pdf/1706.03762.pdf). The task is translating a source human-readable datetime to a target fixed datetime format **yyyy-mm-dd**, e.g: \"24th Aug 19\" -> \"2019-08-24\". Best way to start implement a model from scratch is using small dataset and non-complex."
   ]
  },
  
  {
   "cell_type": "markdown",
   "metadata": {},
   "source": [
    "## Link Colab:\n",
    "[Link colab](https://colab.research.google.com/github/tuananhvip/ml-from-scratch/blob/master/transformer/Transformer.ipynb)"
   ]
  },
  
  
  {
   "cell_type": "code",
   "execution_count": null,
   "metadata": {},
   "outputs": [],
   "source": [
     "!pip install faker\n",
     "!wget https://raw.githubusercontent.com/tuananhvip/ml-from-scratch/master/transformer/nmt_utils.py"
   ]
  },
  
  
  {
   "cell_type": "code",
   "execution_count": 1,
   "metadata": {},
   "outputs": [
    {
     "name": "stderr",
     "output_type": "stream",
     "text": [
      "Using TensorFlow backend.\n"
     ]
    }
   ],
   "source": [
    "import numpy as np\n",
    "import tqdm\n",
    "from faker import Faker\n",
    "from babel.dates import format_date\n",
    "from nmt_utils import load_dataset_v2, preprocess_data, string_to_int, int_to_string, softmax\n",
    "import matplotlib.pyplot as plt\n",
    "%matplotlib inline\n",
    "from sklearn.model_selection import train_test_split\n",
    "import os"
   ]
  },
  {
   "cell_type": "code",
   "execution_count": 2,
   "metadata": {
    "scrolled": true
   },
   "outputs": [
    {
     "name": "stderr",
     "output_type": "stream",
     "text": [
      "100%|█████████████████████████████████████████████████████████████████████████| 40000/40000 [00:01<00:00, 36547.76it/s]\n"
     ]
    }
   ],
   "source": [
    "m = 40000\n",
    "dataset, human_vocab, machine_vocab, inv_machine_vocab = load_dataset_v2(m)"
   ]
  },
  {
   "cell_type": "code",
   "execution_count": 3,
   "metadata": {
    "scrolled": true
   },
   "outputs": [
    {
     "data": {
      "text/plain": [
       "{'<pad>': 0,\n",
       " '<unk>': 1,\n",
       " ' ': 2,\n",
       " '.': 3,\n",
       " '/': 4,\n",
       " '0': 5,\n",
       " '1': 6,\n",
       " '2': 7,\n",
       " '3': 8,\n",
       " '4': 9,\n",
       " '5': 10,\n",
       " '6': 11,\n",
       " '7': 12,\n",
       " '8': 13,\n",
       " '9': 14,\n",
       " 'a': 15,\n",
       " 'b': 16,\n",
       " 'c': 17,\n",
       " 'd': 18,\n",
       " 'e': 19,\n",
       " 'f': 20,\n",
       " 'g': 21,\n",
       " 'h': 22,\n",
       " 'i': 23,\n",
       " 'j': 24,\n",
       " 'l': 25,\n",
       " 'm': 26,\n",
       " 'n': 27,\n",
       " 'o': 28,\n",
       " 'p': 29,\n",
       " 'r': 30,\n",
       " 's': 31,\n",
       " 't': 32,\n",
       " 'u': 33,\n",
       " 'v': 34,\n",
       " 'w': 35,\n",
       " 'y': 36}"
      ]
     },
     "execution_count": 3,
     "metadata": {},
     "output_type": "execute_result"
    }
   ],
   "source": [
    "human_vocab"
   ]
  },
  {
   "cell_type": "code",
   "execution_count": 4,
   "metadata": {},
   "outputs": [
    {
     "data": {
      "text/plain": [
       "{'#': 0,\n",
       " '-': 1,\n",
       " '0': 2,\n",
       " '1': 3,\n",
       " '2': 4,\n",
       " '3': 5,\n",
       " '4': 6,\n",
       " '5': 7,\n",
       " '6': 8,\n",
       " '7': 9,\n",
       " '8': 10,\n",
       " '9': 11}"
      ]
     },
     "execution_count": 4,
     "metadata": {},
     "output_type": "execute_result"
    }
   ],
   "source": [
    "machine_vocab"
   ]
  },
  {
   "cell_type": "code",
   "execution_count": 5,
   "metadata": {
    "scrolled": true
   },
   "outputs": [
    {
     "name": "stdout",
     "output_type": "stream",
     "text": [
      "X.shape: (40000, 30)\n",
      "Y.shape: (40000, 11)\n"
     ]
    }
   ],
   "source": [
    "Tx = 30\n",
    "Ty = 10\n",
    "\n",
    "X, Y = preprocess_data(dataset, human_vocab, machine_vocab, Tx, Ty+1)\n",
    "\n",
    "print(\"X.shape:\", X.shape)\n",
    "print(\"Y.shape:\", Y.shape)"
   ]
  },
  {
   "cell_type": "code",
   "execution_count": 6,
   "metadata": {},
   "outputs": [],
   "source": [
    "import tensorflow as tf"
   ]
  },
  {
   "cell_type": "code",
   "execution_count": 7,
   "metadata": {},
   "outputs": [],
   "source": [
    "tf.enable_eager_execution()"
   ]
  },
  {
   "cell_type": "code",
   "execution_count": 8,
   "metadata": {},
   "outputs": [],
   "source": [
    "L = tf.keras.layers"
   ]
  },
  {
   "cell_type": "markdown",
   "metadata": {},
   "source": [
    "## Transformer model with Tensorflow.\n",
    "\n",
    "### Hyperparameter:\n",
    "\n",
    "$d_{model}$: dimension of word embeding, output of **Multi-head Attention** layer, output of **Feed Forward** layer.\n",
    "\n",
    "$d_k$: dimension of matrix Q, K\n",
    "\n",
    "$d_v$: dimension of matrix V\n",
    "\n",
    "$d_{ff}$: dimension of intermediate **Feed forward** layer\n",
    "\n",
    "$h$: number of heads at each block.\n",
    "\n",
    "\n",
    "### Positional Encoding:\n",
    "\n",
    "Since the Transformer model isn't sequential model like RNN and CNN. The computation is parallel over all input sentence flow from Embedding Layer, so we need to compute the relative or absolute position between the words. The author use non-trainable/fixed signusoid function:\n",
    "\n",
    "$$PE_{(pos, 2i)} = sin\\left(\\frac{pos}{10000^{2i/d_{model}}}\\right) \\mbox{this corresponding to the even indices}$$\n",
    "$$PE_{(pos, 2i+1)} = cos\\left(\\frac{pos}{10000^{2i/d_{model}}}\\right) \\mbox{this corresponding to the odd indices}$$\n",
    "\n",
    "where $pos$ is position in the sequence and $i$ is the dimension.\n",
    "\n",
    "\n",
    "### Scaled Dot-Product Attention:\n",
    "\n",
    "<img style=\"width:300px; height:300px\" src=\"https://i.imgur.com/HuXNlr0.png\" />\n",
    "\n",
    "$$Attention(Q, K, V) = softmax\\left(\\frac{QK^T}{\\sqrt{d_k}}\\right)V$$\n",
    "\n",
    "### (Encoder-Decoder) Multi-Head Attention:\n",
    "\n",
    "<img style=\"weight:300px; height:300px\" src=\"https://i.imgur.com/vgfOLR2.png\" />\n",
    "\n",
    "$$MultiHead(Q, K, V) = Concat(head_1, head_2, ..., head_h)W^O$$\n",
    "$$\\mbox{where } head_i = Attention(Q, K, V)$$\n",
    "\n",
    "### Feed forward:\n",
    "\n",
    "$$FFN(x) = max(0, xW_1 + b_1)W_2 + b_2$$\n",
    "\n",
    "### Encoder blocks:\n",
    "\n",
    "Each encoder block include 2 layers: **Multi-head Attention Mechanism** and **Position-wise Feed Forward**, respestively. Output at each layer use residual connection with its input followed by [Layer Normalization](https://arxiv.org/pdf/1607.06450.pdf): $LayerNorm(x + f(x))$\n",
    "\n",
    "### Decoder blocks:\n",
    "\n",
    "Each decoder block includes 3 layers: **Multi-head Attention Mechanism**, **Encoder-Decoder Multi-head Attention** and **Position-wise Feed Forward**. Same as **Encoder** blocks, output at each layer use residual connection with its input follow by Layer Normalization.\n",
    "\n",
    "<img src=\"https://i.imgur.com/1NUHvLi.jpg\" />"
   ]
  },
  {
   "cell_type": "code",
   "execution_count": 76,
   "metadata": {},
   "outputs": [],
   "source": [
    "class Transformer(tf.keras.Model):\n",
    "    \n",
    "    def __init__(self, num_blocks, num_heads, vocab_size, seq_len, d_model, d_k, d_v, d_ff):\n",
    "        super(Transformer, self).__init__()\n",
    "        self.num_blocks = num_blocks\n",
    "        self.num_heads = num_heads\n",
    "        self.vocab_size = vocab_size\n",
    "        self.d_model = d_model\n",
    "        self.seq_len = seq_len\n",
    "        self.d_k = d_k\n",
    "        self.d_v = d_v\n",
    "        self.d_ff = d_ff\n",
    "        self.word_embed = L.Embedding(vocab_size, d_model)\n",
    "        \n",
    "    def _format(self, block, head):\n",
    "        return str(block) + str(head)\n",
    "    \n",
    "    def _init_structure(self, decoder_part=False):\n",
    "        assert not hasattr(self, \"pos_enc\"), \"The structure is initialized already.\"\n",
    "        self.pos_enc = np.zeros(shape=(1, self.seq_len, self.d_model))\n",
    "        for pos in range(self.seq_len):\n",
    "            for i in range(0, self.d_model, 2):\n",
    "                self.pos_enc[:, pos, i] = np.sin(pos / (10000 ** ((2 * i)/self.d_model)))\n",
    "                self.pos_enc[:, pos, i + 1] = np.cos(pos / (10000 ** ((2 * i)/self.d_model)))\n",
    "        \n",
    "        if decoder_part:\n",
    "            self.mask = [[0]*(i+1) + [-1e9]*(self.seq_len-(i+1)) for i in range(self.seq_len)]\n",
    "            self.mask = np.array([self.mask])             \n",
    "        \n",
    "        for block_id in range(self.num_blocks):\n",
    "            for head_id in range(self.num_heads):\n",
    "                setattr(self, \"Q\" + self._format(block_id, head_id), L.Dense(self.d_k))\n",
    "                setattr(self, \"K\" + self._format(block_id, head_id), L.Dense(self.d_k))\n",
    "                setattr(self, \"V\" + self._format(block_id, head_id), L.Dense(self.d_v))\n",
    "                if decoder_part:\n",
    "                    setattr(self, \"Qenc\" + self._format(block_id, head_id), L.Dense(self.d_k))\n",
    "                    setattr(self, \"Kenc\" + self._format(block_id, head_id), L.Dense(self.d_k))\n",
    "                    setattr(self, \"Venc\" + self._format(block_id, head_id), L.Dense(self.d_v))\n",
    "            setattr(self, \"O\" + str(block_id), L.Dense(self.d_model))\n",
    "            setattr(self, \"FFN1\" + str(block_id), L.Dense(self.d_ff, activation=\"relu\"))\n",
    "            setattr(self, \"FFN2\" + str(block_id), L.Dense(self.d_model))\n",
    "            \n",
    "    def _ffn(self, block_id, attention_output):\n",
    "        ffn1 = getattr(self, \"FFN1\" + str(block_id))(attention_output)\n",
    "        ffn2 = getattr(self, \"FFN2\" + str(block_id))(ffn1)\n",
    "        return ffn2\n",
    "    \n",
    "    def _scaled_dot_product(self, Q, K, V, mask=False):\n",
    "        score = tf.matmul(Q, K, transpose_b=True)\n",
    "        if mask:\n",
    "            # apply mask to score, prevent the affect of feature words to current word.\n",
    "            score = score + self.mask[:, :score.shape[1], :score.shape[1]]\n",
    "        score = tf.nn.softmax(score/np.sqrt(self.d_k), axis=-1)\n",
    "        score = tf.matmul(score, V)\n",
    "        return score\n",
    "                \n",
    "    def _multi_head_attention(self, block_id, Q, K, V, connection_head=False, mask=False):\n",
    "        head_output = []\n",
    "        for head_id in range(self.num_heads):\n",
    "            if connection_head:\n",
    "                Q = getattr(self, \"Qenc\" + self._format(block_id, head_id))(Q)\n",
    "                K = getattr(self, \"Kenc\" + self._format(block_id, head_id))(K)\n",
    "                V = getattr(self, \"Venc\" + self._format(block_id, head_id))(V)\n",
    "            else:\n",
    "                Q = getattr(self, \"Q\" + self._format(block_id, head_id))(Q)\n",
    "                K = getattr(self, \"K\" + self._format(block_id, head_id))(K)\n",
    "                V = getattr(self, \"V\" + self._format(block_id, head_id))(V)\n",
    "            score = self._scaled_dot_product(Q, K, V, mask)\n",
    "            head_output.append(score)\n",
    "        head_output = tf.concat(head_output, axis=-1)\n",
    "        head_output = getattr(self, \"O\" + str(block_id))(head_output)\n",
    "        return head_output\n",
    "    \n",
    "    def _block_computation(self, *args, **kwargs):\n",
    "        raise NotImplementedError(\"Transformer is abstract class. You must implement this function!\")\n",
    "        \n",
    "    def call(self, *args, **kwargs):\n",
    "        raise NotImplementedError(\"Transformer is abstract class. You must implement this function!\")"
   ]
  },
  {
   "cell_type": "code",
   "execution_count": 77,
   "metadata": {},
   "outputs": [],
   "source": [
    "class Encoder(Transformer):\n",
    "    \n",
    "    def __init__(self, num_blocks, num_heads, vocab_size, seq_len, d_model, d_k, d_v, d_ff):\n",
    "        super(Encoder, self).__init__(num_blocks, num_heads, vocab_size, seq_len, d_model, d_k, d_v, d_ff)\n",
    "        self._init_structure()\n",
    "    \n",
    "    def _block_computation(self, block_id, x):\n",
    "        attention_output = self._multi_head_attention(block_id, x, x, x, connection_head=False, mask=False)\n",
    "        attention_output = L.LayerNormalization()(attention_output + x)\n",
    "        \n",
    "        block_output = self._ffn(block_id, attention_output)\n",
    "        block_output = L.LayerNormalization()(block_output + attention_output)\n",
    "        return block_output\n",
    "    \n",
    "    def call(self, x):\n",
    "        word_embed = self.word_embed(x)\n",
    "        word_embed = word_embed + self.pos_enc\n",
    "        \n",
    "        block_output = word_embed\n",
    "        for block_id in range(self.num_blocks):\n",
    "            block_output = self._block_computation(block_id, block_output)\n",
    "        return block_output"
   ]
  },
  {
   "cell_type": "code",
   "execution_count": 78,
   "metadata": {},
   "outputs": [],
   "source": [
    "class Decoder(Transformer):\n",
    "    \n",
    "    def __init__(self, num_blocks, num_heads, vocab_size, seq_len, d_model, d_k, d_v, d_ff):\n",
    "        super(Decoder, self).__init__(num_blocks, num_heads, vocab_size, seq_len, d_model, d_k, d_v, d_ff)\n",
    "        self._init_structure(decoder_part=True)\n",
    "        self.logits = L.Dense(units=vocab_size)\n",
    "    \n",
    "    def _block_computation(self, block_id, x, encoder_output):\n",
    "        attention_output = self._multi_head_attention(block_id, x, x, x, connection_head=False, mask=True)\n",
    "        attention_output = L.LayerNormalization()(attention_output + x)\n",
    "        \n",
    "        connection_output = self._multi_head_attention(block_id, attention_output, encoder_output, \n",
    "                                                       encoder_output, connection_head=True, mask=False)\n",
    "        connection_output = L.LayerNormalization()(connection_output + attention_output)\n",
    "        \n",
    "        block_output = self._ffn(block_id, connection_output)\n",
    "        block_output = L.LayerNormalization()(block_output + connection_output)\n",
    "        return block_output\n",
    "    \n",
    "    def call(self, x, encoder_output):\n",
    "        word_embed = self.word_embed(x)\n",
    "        word_embed = word_embed + self.pos_enc[:, :word_embed.shape[1], :]\n",
    "        block_output = word_embed\n",
    "        for block_id in range(self.num_blocks):\n",
    "            block_output = self._block_computation(block_id, block_output, encoder_output)\n",
    "        logits = self.logits(block_output)\n",
    "        return logits"
   ]
  },
  {
   "cell_type": "code",
   "execution_count": 79,
   "metadata": {},
   "outputs": [],
   "source": [
    "def loss_function(labels, logits):\n",
    "    loss = tf.nn.sparse_softmax_cross_entropy_with_logits(labels=labels, logits=logits)\n",
    "    return tf.reduce_mean(tf.reduce_sum(loss, axis=1), axis=0)"
   ]
  },
  {
   "cell_type": "markdown",
   "metadata": {},
   "source": [
    "### Define hyperparameter for Transformer Model"
   ]
  },
  {
   "cell_type": "code",
   "execution_count": 80,
   "metadata": {},
   "outputs": [],
   "source": [
    "NUM_BLOCKS = 2\n",
    "NUM_HEADS = 2\n",
    "DIMENSION_MODEL = 32\n",
    "DIMENSION_K = 16\n",
    "DIMENSION_V = 16\n",
    "DIMENSION_FF = 64"
   ]
  },
  {
   "cell_type": "code",
   "execution_count": 81,
   "metadata": {},
   "outputs": [],
   "source": [
    "encoder = Encoder(num_blocks=NUM_BLOCKS, num_heads=NUM_HEADS, vocab_size=len(human_vocab), seq_len=Tx, \n",
    "                  d_model=DIMENSION_MODEL, d_k=DIMENSION_K, d_v=DIMENSION_V, d_ff=DIMENSION_FF)\n",
    "\n",
    "decoder = Decoder(num_blocks=NUM_BLOCKS, num_heads=NUM_HEADS, vocab_size=len(machine_vocab), seq_len=Ty, \n",
    "                  d_model=DIMENSION_MODEL, d_k=DIMENSION_K, d_v=DIMENSION_V, d_ff=DIMENSION_FF)"
   ]
  },
  {
   "cell_type": "code",
   "execution_count": 82,
   "metadata": {},
   "outputs": [],
   "source": [
    "epochs = 3\n",
    "batch_size = 64\n",
    "num_batches = X.shape[0]//batch_size if X.shape[0] % batch_size == 0 else X.shape[0]//batch_size + 1\n",
    "data = tf.concat([X, Y], axis=1)"
   ]
  },
  {
   "cell_type": "code",
   "execution_count": 83,
   "metadata": {},
   "outputs": [],
   "source": [
    "optimizer = tf.train.AdamOptimizer()"
   ]
  },
  {
   "cell_type": "code",
   "execution_count": 84,
   "metadata": {},
   "outputs": [
    {
     "data": {
      "application/vnd.jupyter.widget-view+json": {
       "model_id": "f11b1f2eb6134f5da4ded3d6e45ed1cb",
       "version_major": 2,
       "version_minor": 0
      },
      "text/plain": [
       "HBox(children=(IntProgress(value=0, description='Epoch 1', max=625, style=ProgressStyle(description_width='ini…"
      ]
     },
     "metadata": {},
     "output_type": "display_data"
    },
    {
     "data": {
      "application/vnd.jupyter.widget-view+json": {
       "model_id": "2e5e464b4bb5467095c23dbf76be2beb",
       "version_major": 2,
       "version_minor": 0
      },
      "text/plain": [
       "HBox(children=(IntProgress(value=0, description='Epoch 2', max=625, style=ProgressStyle(description_width='ini…"
      ]
     },
     "metadata": {},
     "output_type": "display_data"
    },
    {
     "data": {
      "application/vnd.jupyter.widget-view+json": {
       "model_id": "6783efe1a2c043e5b6145ae3cc3f7bcf",
       "version_major": 2,
       "version_minor": 0
      },
      "text/plain": [
       "HBox(children=(IntProgress(value=0, description='Epoch 3', max=625, style=ProgressStyle(description_width='ini…"
      ]
     },
     "metadata": {},
     "output_type": "display_data"
    }
   ],
   "source": [
    "for e in range(epochs):\n",
    "    \n",
    "    data = tf.random.shuffle(data)\n",
    "    \n",
    "    X, Y = data[:, :Tx], data[:, Tx:]\n",
    "    \n",
    "    pbar = tqdm.tqdm_notebook(range(0, num_batches), desc=\"Epoch \" + str(e+1))\n",
    "    \n",
    "    train_loss = 0\n",
    "    \n",
    "    for it in pbar:\n",
    "        loss = 0\n",
    "        start = it*batch_size\n",
    "        end = (it+1)*batch_size\n",
    "        \n",
    "        with tf.GradientTape() as tape:\n",
    "            encoder_output = encoder(X[start:end])\n",
    "            \n",
    "            logits = decoder(Y[start:end, :-1], encoder_output)\n",
    "            \n",
    "            loss += loss_function(Y[start:end, 1:], logits)\n",
    "            \n",
    "        batch_loss = (loss / Ty)\n",
    "        \n",
    "        train_loss += batch_loss\n",
    "        \n",
    "        pbar.set_description(\"Epoch %s - Training loss: %f\" % (e+1, (train_loss / (it+1))))\n",
    "        \n",
    "        variables = encoder.variables + decoder.variables\n",
    "        \n",
    "        gradients = tape.gradient(loss, variables)\n",
    "        \n",
    "        optimizer.apply_gradients(zip(gradients, variables))"
   ]
  },
  {
   "cell_type": "code",
   "execution_count": 87,
   "metadata": {
    "scrolled": false
   },
   "outputs": [
    {
     "name": "stdout",
     "output_type": "stream",
     "text": [
      "source: 3 May 1979\n",
      "sequential output: 1979-05-03\n",
      "parallel output: 1979-05-03\n",
      "-------------------\n",
      "source: 5 April 09\n",
      "sequential output: 1990-04-05\n",
      "parallel output: 1990-04-05\n",
      "-------------------\n",
      "source: 21th of August 2016\n",
      "sequential output: 2016-08-21\n",
      "parallel output: 2016-08-21\n",
      "-------------------\n",
      "source: Tue 10 Jul 2007\n",
      "sequential output: 2007-07-10\n",
      "parallel output: 2007-07-10\n",
      "-------------------\n",
      "source: Saturday May 9 2018\n",
      "sequential output: 2018-05-09\n",
      "parallel output: 2018-05-09\n",
      "-------------------\n",
      "source: March 3 2001\n",
      "sequential output: 2010-03-03\n",
      "parallel output: 2010-03-03\n",
      "-------------------\n",
      "source: March 3rd 2001\n",
      "sequential output: 2010-03-03\n",
      "parallel output: 2010-03-03\n",
      "-------------------\n",
      "source: 1 March 2001\n",
      "sequential output: 2010-03-01\n",
      "parallel output: 2010-03-01\n",
      "-------------------\n"
     ]
    }
   ],
   "source": [
    "EXAMPLES = ['3 May 1979', '5 April 09', '21th of August 2016', 'Tue 10 Jul 2007', 'Saturday May 9 2018', 'March 3 2001', 'March 3rd 2001', '1 March 2001']\n",
    "\n",
    "for example in EXAMPLES:\n",
    "    source = string_to_int(example, Tx, human_vocab)\n",
    "    source = np.array([source])\n",
    "\n",
    "    encoder_output = encoder(source)\n",
    "    sentence = [machine_vocab[\"#\"]]\n",
    "\n",
    "    for t in range(Ty):\n",
    "        logits = decoder(np.array([sentence]), encoder_output)\n",
    "        prediction = tf.nn.softmax(logits, axis=-1)\n",
    "        prediction = np.argmax(prediction, axis=-1)\n",
    "        sentence.append(prediction[0][-1])\n",
    "\n",
    "    sequential_output = [inv_machine_vocab[s] for s in sentence[1:]]\n",
    "    parallel_output = [inv_machine_vocab[s] for s in prediction[0]]\n",
    "    \n",
    "    print(\"source:\", example)\n",
    "    print(\"sequential output:\", ''.join(sequential_output))\n",
    "    print(\"parallel output:\", ''.join(parallel_output))\n",
    "    print(\"-----------------------------------------------\")"
   ]
  }
 ],
 "metadata": {
  "kernelspec": {
   "display_name": "Python 3",
   "language": "python",
   "name": "python3"
  },
  "language_info": {
   "codemirror_mode": {
    "name": "ipython",
    "version": 3
   },
   "file_extension": ".py",
   "mimetype": "text/x-python",
   "name": "python",
   "nbconvert_exporter": "python",
   "pygments_lexer": "ipython3",
   "version": "3.7.3"
  }
 },
 "nbformat": 4,
 "nbformat_minor": 2
}
